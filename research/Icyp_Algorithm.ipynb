{
 "cells": [
  {
   "cell_type": "code",
   "execution_count": 1,
   "metadata": {},
   "outputs": [],
   "source": [
    "import json                                              # Will be needed for saving preprocessing details\n",
    "import numpy as np                                       # For data manipulation\n",
    "import pandas as pd                                      # For data manipulation\n",
    "from sklearn.model_selection import train_test_split     # Will be used for data split\n",
    "from sklearn.preprocessing import LabelEncoder           # For preprocessing\n",
    "from sklearn.ensemble import RandomForestClassifier      # For training the algorithm\n",
    "from sklearn.ensemble import ExtraTreesClassifier        # For training the algorithm\n",
    "import joblib                                            # For saving algorithm and preprocessing objects"
   ]
  },
  {
   "cell_type": "code",
   "execution_count": 2,
   "metadata": {},
   "outputs": [
    {
     "data": {
      "text/html": [
       "<div>\n",
       "<style scoped>\n",
       "    .dataframe tbody tr th:only-of-type {\n",
       "        vertical-align: middle;\n",
       "    }\n",
       "\n",
       "    .dataframe tbody tr th {\n",
       "        vertical-align: top;\n",
       "    }\n",
       "\n",
       "    .dataframe thead th {\n",
       "        text-align: right;\n",
       "    }\n",
       "</style>\n",
       "<table border=\"1\" class=\"dataframe\">\n",
       "  <thead>\n",
       "    <tr style=\"text-align: right;\">\n",
       "      <th></th>\n",
       "      <th>key</th>\n",
       "      <th>state_name</th>\n",
       "      <th>district_name</th>\n",
       "      <th>crop_year</th>\n",
       "      <th>season</th>\n",
       "      <th>crop</th>\n",
       "      <th>area</th>\n",
       "      <th>min_rainfall</th>\n",
       "      <th>max_rainfall</th>\n",
       "      <th>mean_rainfall</th>\n",
       "      <th>annual_rainfall</th>\n",
       "      <th>production</th>\n",
       "      <th>yield</th>\n",
       "      <th>yield_class</th>\n",
       "    </tr>\n",
       "  </thead>\n",
       "  <tbody>\n",
       "    <tr>\n",
       "      <th>0</th>\n",
       "      <td>Karnataka-Bagalkot-Arhar/Tur-2000-Kharif</td>\n",
       "      <td>Karnataka</td>\n",
       "      <td>Bagalkot</td>\n",
       "      <td>2000</td>\n",
       "      <td>Kharif</td>\n",
       "      <td>Arhar/Tur</td>\n",
       "      <td>4984.0</td>\n",
       "      <td>0.0</td>\n",
       "      <td>173.079</td>\n",
       "      <td>71.463</td>\n",
       "      <td>857.558</td>\n",
       "      <td>3693.0</td>\n",
       "      <td>0.741</td>\n",
       "      <td>Good</td>\n",
       "    </tr>\n",
       "    <tr>\n",
       "      <th>1</th>\n",
       "      <td>Karnataka-Bagalkot-Bajra-2000-Kharif</td>\n",
       "      <td>Karnataka</td>\n",
       "      <td>Bagalkot</td>\n",
       "      <td>2000</td>\n",
       "      <td>Kharif</td>\n",
       "      <td>Bajra</td>\n",
       "      <td>41232.0</td>\n",
       "      <td>0.0</td>\n",
       "      <td>173.079</td>\n",
       "      <td>71.463</td>\n",
       "      <td>857.558</td>\n",
       "      <td>41300.0</td>\n",
       "      <td>1.002</td>\n",
       "      <td>Very Good</td>\n",
       "    </tr>\n",
       "    <tr>\n",
       "      <th>2</th>\n",
       "      <td>Karnataka-Bagalkot-Castor seed-2000-Kharif</td>\n",
       "      <td>Karnataka</td>\n",
       "      <td>Bagalkot</td>\n",
       "      <td>2000</td>\n",
       "      <td>Kharif</td>\n",
       "      <td>Castor seed</td>\n",
       "      <td>52.0</td>\n",
       "      <td>0.0</td>\n",
       "      <td>173.079</td>\n",
       "      <td>71.463</td>\n",
       "      <td>857.558</td>\n",
       "      <td>67.0</td>\n",
       "      <td>1.288</td>\n",
       "      <td>Good</td>\n",
       "    </tr>\n",
       "    <tr>\n",
       "      <th>3</th>\n",
       "      <td>Karnataka-Bagalkot-Cotton(lint)-2000-Kharif</td>\n",
       "      <td>Karnataka</td>\n",
       "      <td>Bagalkot</td>\n",
       "      <td>2000</td>\n",
       "      <td>Kharif</td>\n",
       "      <td>Cotton(lint)</td>\n",
       "      <td>15767.0</td>\n",
       "      <td>0.0</td>\n",
       "      <td>173.079</td>\n",
       "      <td>71.463</td>\n",
       "      <td>857.558</td>\n",
       "      <td>23002.0</td>\n",
       "      <td>1.459</td>\n",
       "      <td>Good</td>\n",
       "    </tr>\n",
       "    <tr>\n",
       "      <th>4</th>\n",
       "      <td>Karnataka-Bagalkot-Groundnut-2000-Kharif</td>\n",
       "      <td>Karnataka</td>\n",
       "      <td>Bagalkot</td>\n",
       "      <td>2000</td>\n",
       "      <td>Kharif</td>\n",
       "      <td>Groundnut</td>\n",
       "      <td>14487.0</td>\n",
       "      <td>0.0</td>\n",
       "      <td>173.079</td>\n",
       "      <td>71.463</td>\n",
       "      <td>857.558</td>\n",
       "      <td>9664.0</td>\n",
       "      <td>0.667</td>\n",
       "      <td>Good</td>\n",
       "    </tr>\n",
       "  </tbody>\n",
       "</table>\n",
       "</div>"
      ],
      "text/plain": [
       "                                           key state_name district_name  \\\n",
       "0     Karnataka-Bagalkot-Arhar/Tur-2000-Kharif  Karnataka      Bagalkot   \n",
       "1         Karnataka-Bagalkot-Bajra-2000-Kharif  Karnataka      Bagalkot   \n",
       "2   Karnataka-Bagalkot-Castor seed-2000-Kharif  Karnataka      Bagalkot   \n",
       "3  Karnataka-Bagalkot-Cotton(lint)-2000-Kharif  Karnataka      Bagalkot   \n",
       "4     Karnataka-Bagalkot-Groundnut-2000-Kharif  Karnataka      Bagalkot   \n",
       "\n",
       "   crop_year       season          crop     area  min_rainfall  max_rainfall  \\\n",
       "0       2000  Kharif          Arhar/Tur   4984.0           0.0       173.079   \n",
       "1       2000  Kharif              Bajra  41232.0           0.0       173.079   \n",
       "2       2000  Kharif        Castor seed     52.0           0.0       173.079   \n",
       "3       2000  Kharif       Cotton(lint)  15767.0           0.0       173.079   \n",
       "4       2000  Kharif          Groundnut  14487.0           0.0       173.079   \n",
       "\n",
       "   mean_rainfall  annual_rainfall  production  yield yield_class  \n",
       "0         71.463          857.558      3693.0  0.741        Good  \n",
       "1         71.463          857.558     41300.0  1.002   Very Good  \n",
       "2         71.463          857.558        67.0  1.288        Good  \n",
       "3         71.463          857.558     23002.0  1.459        Good  \n",
       "4         71.463          857.558      9664.0  0.667        Good  "
      ]
     },
     "execution_count": 2,
     "metadata": {},
     "output_type": "execute_result"
    }
   ],
   "source": [
    "# Load the dataset from the raw file url.\n",
    "df = pd.read_csv('https://raw.githubusercontent.com/SRaiz/Krishi-Karma/master/Final_Crop_Yield_Karnataka.csv', \n",
    "                 skipinitialspace=True)\n",
    "\n",
    "x_cols = [col for col in df.columns if ((col != 'yield_class') & (col != 'key'))]\n",
    "\n",
    "# Set the input data(matrix) and the target column\n",
    "X = df[x_cols]\n",
    "y = df['yield_class']\n",
    "\n",
    "# Show first 5 rows of data\n",
    "df.head()"
   ]
  },
  {
   "cell_type": "code",
   "execution_count": 3,
   "metadata": {},
   "outputs": [],
   "source": [
    "# Before processing our data we will be splitting it into a testing and training data set. We will use 30% for testing\n",
    "\n",
    "# data split train / test\n",
    "X_train, X_test, y_train, y_test = train_test_split(X, y, test_size = 0.3, random_state=1234)"
   ]
  },
  {
   "cell_type": "code",
   "execution_count": 4,
   "metadata": {},
   "outputs": [
    {
     "name": "stdout",
     "output_type": "stream",
     "text": [
      "{'state_name': 'Karnataka', 'district_name': 'Davangere', 'crop_year': 2002.0, 'season': 'Kharif     ', 'crop': 'Maize', 'area': 2.0, 'min_rainfall': 0.0, 'max_rainfall': 0.0, 'mean_rainfall': 0.0, 'annual_rainfall': 0.0, 'production': 2.0, 'yield': 1.0}\n"
     ]
    }
   ],
   "source": [
    "train_mode = dict(X_train.mode().iloc[0])\n",
    "print(train_mode)"
   ]
  },
  {
   "cell_type": "code",
   "execution_count": 5,
   "metadata": {},
   "outputs": [
    {
     "name": "stderr",
     "output_type": "stream",
     "text": [
      "<ipython-input-5-83d2b7e3be54>:9: SettingWithCopyWarning: \n",
      "A value is trying to be set on a copy of a slice from a DataFrame.\n",
      "Try using .loc[row_indexer,col_indexer] = value instead\n",
      "\n",
      "See the caveats in the documentation: https://pandas.pydata.org/pandas-docs/stable/user_guide/indexing.html#returning-a-view-versus-a-copy\n",
      "  X_train[column] = categorical_convert.fit_transform(X_train[column])\n"
     ]
    }
   ],
   "source": [
    "# Now we will be converting the categorical variables into numbers. I am using LabelEncoder from sklearn package \n",
    "# to do so\n",
    "from sklearn import utils\n",
    "\n",
    "# convert categoricals\n",
    "encoders = {}\n",
    "for column in ['state_name', 'district_name', 'season', 'crop']:\n",
    "    categorical_convert = LabelEncoder()\n",
    "    X_train[column] = categorical_convert.fit_transform(X_train[column])\n",
    "    encoders[column] = X_train[column]"
   ]
  },
  {
   "cell_type": "code",
   "execution_count": 6,
   "metadata": {},
   "outputs": [],
   "source": [
    "# train the Random Forest algorithm\n",
    "rf = RandomForestClassifier(n_estimators = 100)\n",
    "rf = rf.fit(X_train, y_train)"
   ]
  },
  {
   "cell_type": "code",
   "execution_count": 7,
   "metadata": {},
   "outputs": [],
   "source": [
    "# train the Extra Trees algorithm\n",
    "et = ExtraTreesClassifier(n_estimators = 100)\n",
    "et = et.fit(X_train, y_train)"
   ]
  },
  {
   "cell_type": "code",
   "execution_count": 8,
   "metadata": {},
   "outputs": [
    {
     "data": {
      "text/plain": [
       "['./extra_trees.joblib']"
      ]
     },
     "execution_count": 8,
     "metadata": {},
     "output_type": "execute_result"
    }
   ],
   "source": [
    "# Now, we need to save the algorithm that we have created. The important thing to notice is that the ML algorithm \n",
    "# is not only the rf and et variable (with model weights), but there is also a need to save pre-processing \n",
    "# variables i.e. train_mode and encoders as well. For saving, we will use joblib package. \n",
    "\n",
    "# save the preprocessing variables and the RF and et algorithm\n",
    "joblib.dump( train_mode, \"./train_mode.joblib\", compress=True )\n",
    "joblib.dump( encoders, \"./encoders.joblib\", compress=True )\n",
    "joblib.dump( rf, \"./random_forest.joblib\", compress=True )\n",
    "joblib.dump( et, \"./extra_trees.joblib\", compress=True )"
   ]
  }
 ],
 "metadata": {
  "kernelspec": {
   "display_name": "venv",
   "language": "python",
   "name": "venv"
  },
  "language_info": {
   "codemirror_mode": {
    "name": "ipython",
    "version": 3
   },
   "file_extension": ".py",
   "mimetype": "text/x-python",
   "name": "python",
   "nbconvert_exporter": "python",
   "pygments_lexer": "ipython3",
   "version": "3.8.1"
  }
 },
 "nbformat": 4,
 "nbformat_minor": 4
}
